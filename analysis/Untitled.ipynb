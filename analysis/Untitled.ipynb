{
 "cells": [
  {
   "cell_type": "code",
   "execution_count": 142,
   "metadata": {},
   "outputs": [
    {
     "name": "stderr",
     "output_type": "stream",
     "text": [
      "[nltk_data] Downloading package punkt to /Users/6ones/nltk_data...\n",
      "[nltk_data]   Package punkt is already up-to-date!\n",
      "[nltk_data] Downloading package averaged_perceptron_tagger to\n",
      "[nltk_data]     /Users/6ones/nltk_data...\n",
      "[nltk_data]   Package averaged_perceptron_tagger is already up-to-\n",
      "[nltk_data]       date!\n"
     ]
    },
    {
     "data": {
      "text/plain": [
       "True"
      ]
     },
     "execution_count": 142,
     "metadata": {},
     "output_type": "execute_result"
    }
   ],
   "source": [
    "import re\n",
    "import pandas as pd\n",
    "import seaborn as sns\n",
    "import nltk\n",
    "from textblob import TextBlob\n",
    "# import chartify\n",
    "import matplotlib.pyplot as plt\n",
    "\n",
    "nltk.download('punkt')\n",
    "nltk.download('averaged_perceptron_tagger')"
   ]
  },
  {
   "cell_type": "code",
   "execution_count": 116,
   "metadata": {},
   "outputs": [
    {
     "data": {
      "text/plain": [
       "<Figure size 432x288 with 0 Axes>"
      ]
     },
     "metadata": {},
     "output_type": "display_data"
    }
   ],
   "source": [
    "sns.set_theme(style='darkgrid', context=\"notebook\");\n",
    "sns.despine();"
   ]
  },
  {
   "cell_type": "code",
   "execution_count": 37,
   "metadata": {},
   "outputs": [],
   "source": [
    "def clean_tweet(text): \n",
    "    \"\"\" \n",
    "    Use sumple regex statemnents to clean tweet text by removing links and special characters\n",
    "    \"\"\"\n",
    "    return ' '.join(re.sub(\"(@[A-Za-z0-9]+)|([^0-9A-Za-z \\t]) \\\n",
    "                                |(\\w+:\\/\\/\\S+)\", \" \", text).split()) \n",
    "\n",
    "def de_emojify(text):\n",
    "    \"\"\"\n",
    "    Strip all non-ASCII characters to remove emoji characters\n",
    "    \"\"\"\n",
    "    if text:\n",
    "        return text.encode('ascii', 'ignore').decode('ascii')\n",
    "    else:\n",
    "        return None"
   ]
  },
  {
   "cell_type": "code",
   "execution_count": 113,
   "metadata": {},
   "outputs": [],
   "source": [
    "def load_data(file_location):\n",
    "    df = pd.read_csv(file_location,\n",
    "                     index_col=False,\n",
    "                     names=[\n",
    "                            'id', 'id_str', 'created_at', 'user_screen_name', 'text', 'source', \\\n",
    "                            'reply_count', 'retweet_count', 'favourite_count', 'retweeted', \\\n",
    "                            'in_reply_to_status_id_str', 'in_reply_to_user_id_str', 'in_reply_to_screen_name', \\\n",
    "                            'is_quote_status', 'user_name', 'user_id_str', 'user_location', 'user_verified', 'user_followers_count', \\\n",
    "                            'user_friends_count', 'user_protected', 'user_created_at', 'user_description', 'user_favourites_count', \\\n",
    "                            'user_statuses_count', 'url', 'media', 'urls'\n",
    "                        ])\n",
    "    return df\n",
    "\n",
    "\n",
    "\n",
    "def clean_data(df):\n",
    "    df = df.drop(['id_str'], axis=1)\n",
    "    df = df.drop_duplicates()\n",
    "    df = df.set_index('id')\n",
    "    df['text'] = df['text'].apply(de_emojify)\n",
    "    df['text'] = df['text'].apply(clean_tweet)    \n",
    "    return df\n",
    "\n",
    "\n",
    "def drop_cols(df, cols):\n",
    "    \"\"\"Drop columns\"\"\"\n",
    "    df = df.drop(cols, axis='columns')\n",
    "    return df\n",
    "\n",
    "def to_datetime(df, cols):\n",
    "    \"\"\"Convert date columns to pandas datetime\"\"\"\n",
    "    for col in cols:\n",
    "        df[col] = pd.to_datetime(df[col])\n",
    "    return df"
   ]
  },
  {
   "cell_type": "code",
   "execution_count": 96,
   "metadata": {},
   "outputs": [],
   "source": [
    "df = load_data('./data/livongo.csv')\n",
    "\n",
    "columns_to_drop = ['user_id_str','in_reply_to_status_id_str','in_reply_to_user_id_str','in_reply_to_screen_name','user_description']\n",
    "date_columns = ['user_created_at','created_at']\n",
    "\n",
    "df = (df\n",
    "      .pipe(clean_data)\n",
    "      .pipe(drop_cols, columns_to_drop)\n",
    "      .pipe(to_datetime, date_columns))"
   ]
  },
  {
   "cell_type": "markdown",
   "metadata": {},
   "source": [
    "## Analysis on Tweets"
   ]
  },
  {
   "cell_type": "markdown",
   "metadata": {},
   "source": [
    "### 1. Sentiment Analysis"
   ]
  },
  {
   "cell_type": "code",
   "execution_count": 153,
   "metadata": {},
   "outputs": [],
   "source": [
    "def analyze_sentiment(df):\n",
    "    \"\"\"Analyze sentiment using the text column\"\"\"\n",
    "    df['sentiment_score'] = df['text'].apply(lambda x: TextBlob(x).sentiment)\n",
    "    df['polarity'] = df['sentiment_score'].apply(lambda x: x[0])\n",
    "    df['subjectivity'] = df['sentiment_score'].apply(lambda x: x[1])\n",
    "    df = df.drop('sentiment_score', axis='columns')\n",
    "    df['sentiment'] = pd.cut(df.polarity, 3,labels=['negative','neutral','positive'])\n",
    "    return df\n",
    "   \n",
    "df = df.pipe(analyze_sentiment)"
   ]
  },
  {
   "cell_type": "code",
   "execution_count": 152,
   "metadata": {},
   "outputs": [
    {
     "data": {
      "image/png": "[encoded data removed]",
      "text/plain": [
       "<Figure size 432x288 with 1 Axes>"
      ]
     },
     "metadata": {},
     "output_type": "display_data"
    }
   ],
   "source": [
    "sns.countplot(x='sentiment', data=df)\n",
    "\n",
    "plt.title('Sentiment Distribution');\n",
    "plt.xlabel('Sentiment')\n",
    "plt.ylabel('Count');"
   ]
  },
  {
   "cell_type": "code",
   "execution_count": 166,
   "metadata": {},
   "outputs": [
    {
     "data": {
      "text/plain": [
       "('Guidewell | Livongo Signs Strategic Partnership with GuideWell Accelerating Care Delivery to Vulnerable Populations #GuideWellNow',\n",
       " -0.5)"
      ]
     },
     "execution_count": 166,
     "metadata": {},
     "output_type": "execute_result"
    }
   ],
   "source": [
    "negatives = df.loc[df.sentiment == 'negative'][['sentiment','polarity','text']]\n",
    "one = negatives.iloc[0]\n",
    "\n",
    "one.text, one.polarity"
   ]
  },
  {
   "cell_type": "code",
   "execution_count": null,
   "metadata": {},
   "outputs": [],
   "source": []
  },
  {
   "cell_type": "code",
   "execution_count": null,
   "metadata": {},
   "outputs": [],
   "source": []
  },
  {
   "cell_type": "code",
   "execution_count": null,
   "metadata": {},
   "outputs": [],
   "source": []
  },
  {
   "cell_type": "code",
   "execution_count": null,
   "metadata": {},
   "outputs": [],
   "source": []
  },
  {
   "cell_type": "markdown",
   "metadata": {},
   "source": [
    "### 2. Text Analysis"
   ]
  },
  {
   "cell_type": "code",
   "execution_count": null,
   "metadata": {},
   "outputs": [],
   "source": []
  },
  {
   "cell_type": "code",
   "execution_count": null,
   "metadata": {},
   "outputs": [],
   "source": []
  }
 ],
 "metadata": {
  "kernelspec": {
   "display_name": "Python 3",
   "language": "python",
   "name": "python3"
  },
  "language_info": {
   "codemirror_mode": {
    "name": "ipython",
    "version": 3
   },
   "file_extension": ".py",
   "mimetype": "text/x-python",
   "name": "python",
   "nbconvert_exporter": "python",
   "pygments_lexer": "ipython3",
   "version": "3.7.5"
  }
 },
 "nbformat": 4,
 "nbformat_minor": 4
}
